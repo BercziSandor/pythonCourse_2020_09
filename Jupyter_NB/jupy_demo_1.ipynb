{
 "cells": [
  {
   "cell_type": "code",
   "execution_count": null,
   "metadata": {},
   "outputs": [],
   "source": [
    "# Külön-külön végre tudjuk hajtani a cellákat\n",
    "\n",
    "x = 77"
   ]
  },
  {
   "cell_type": "code",
   "execution_count": null,
   "metadata": {},
   "outputs": [],
   "source": [
    "# Ha az előző cellák már végrehajtódtak, akkor az ott elvégzett importok és műveletek eredménye itt rendelkezésre áll:\n",
    "\n",
    "print(x + 3)"
   ]
  },
  {
   "cell_type": "code",
   "execution_count": null,
   "metadata": {},
   "outputs": [],
   "source": [
    "# print() nélkül is ki tudunk íratni kifejezéseket (mint a Python terminál ablakban):\n",
    "\n",
    "import numpy as np\n",
    "\n",
    "arr_1 = np.array([1, 2, 3, 4, 5])\n",
    "arr_1[::2]\n"
   ]
  },
  {
   "cell_type": "code",
   "execution_count": null,
   "metadata": {},
   "outputs": [],
   "source": [
    "# diagramot készítünk\n",
    "\n",
    "import random\n",
    "import matplotlib.pyplot as plt\n",
    "import seaborn; seaborn.set()\n",
    "\n",
    "rand = np.random.RandomState(42)\n",
    "\n",
    "mean = [0, 0]\n",
    "cov = [[1, 2],\n",
    "[2, 5]]\n",
    "X = rand.multivariate_normal(mean, cov, 100)\n",
    "plt.scatter(X[:, 0], X[:, 1]);\n",
    "\n",
    "indices = np.random.choice(X.shape[0], 20, replace=False)\n",
    "selection = X[indices]\n",
    "\n",
    "plt.scatter(X[:, 0], X[:, 1], alpha=0.3)\n",
    "plt.scatter(selection[:, 0], selection[:, 1], facecolor='none', s=200);\n",
    "\n",
    "plt.show()"
   ]
  },
  {
   "cell_type": "code",
   "execution_count": null,
   "metadata": {},
   "outputs": [],
   "source": [
    "# IntelliSense: ha elkezdünk gépelni és egy TAB-ot nyomunk, megjelenik a lehetséges elemek listája, pl.\n",
    "\n",
    "#np.hist[TAB]"
   ]
  },
  {
   "cell_type": "code",
   "execution_count": null,
   "metadata": {},
   "outputs": [],
   "source": [
    "# A szokásos help egy függvényről vagy modulról:\n",
    "\n",
    "#help(np.histogram)\n"
   ]
  },
  {
   "cell_type": "code",
   "execution_count": null,
   "metadata": {},
   "outputs": [],
   "source": [
    "# Kicsit részletesebb infó: ? segítségével\n",
    "\n",
    "np.histogram?"
   ]
  },
  {
   "cell_type": "code",
   "execution_count": null,
   "metadata": {},
   "outputs": [],
   "source": [
    "# Nagyon részletes, tutorial-szerű infó: ?? segítségével\n",
    "\n",
    "np.histogram??"
   ]
  }
 ],
 "metadata": {
  "kernelspec": {
   "display_name": "Python 3",
   "language": "python",
   "name": "python3"
  },
  "language_info": {
   "codemirror_mode": {
    "name": "ipython",
    "version": 3
   },
   "file_extension": ".py",
   "mimetype": "text/x-python",
   "name": "python",
   "nbconvert_exporter": "python",
   "pygments_lexer": "ipython3",
   "version": "3.6.0"
  }
 },
 "nbformat": 4,
 "nbformat_minor": 2
}
